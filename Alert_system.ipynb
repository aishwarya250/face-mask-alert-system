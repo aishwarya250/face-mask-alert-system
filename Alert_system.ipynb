{
 "cells": [
  {
   "cell_type": "code",
   "execution_count": 1,
   "metadata": {},
   "outputs": [],
   "source": [
    "import cv2"
   ]
  },
  {
   "cell_type": "code",
   "execution_count": 2,
   "metadata": {},
   "outputs": [],
   "source": [
    "import tensorflow as tf"
   ]
  },
  {
   "cell_type": "code",
   "execution_count": 3,
   "metadata": {},
   "outputs": [
    {
     "name": "stdout",
     "output_type": "stream",
     "text": [
      "Requirement already satisfied: keras in f:\\anaconda\\envs\\tf\\lib\\site-packages (2.4.3)Note: you may need to restart the kernel to use updated packages.\n",
      "Requirement already satisfied: pyyaml in f:\\anaconda\\envs\\tf\\lib\\site-packages (from keras) (5.4.1)\n",
      "Requirement already satisfied: h5py in f:\\anaconda\\envs\\tf\\lib\\site-packages (from keras) (2.10.0)\n",
      "Requirement already satisfied: numpy>=1.9.1 in f:\\anaconda\\envs\\tf\\lib\\site-packages (from keras) (1.18.5)\n",
      "Requirement already satisfied: scipy>=0.14 in f:\\anaconda\\envs\\tf\\lib\\site-packages (from keras) (1.4.1)\n",
      "Requirement already satisfied: six in f:\\anaconda\\envs\\tf\\lib\\site-packages (from h5py->keras) (1.15.0)\n",
      "\n"
     ]
    }
   ],
   "source": [
    "pip install keras"
   ]
  },
  {
   "cell_type": "code",
   "execution_count": 3,
   "metadata": {},
   "outputs": [],
   "source": [
    "from keras.models import load_model"
   ]
  },
  {
   "cell_type": "code",
   "execution_count": 4,
   "metadata": {
    "executionInfo": {
     "elapsed": 4848,
     "status": "ok",
     "timestamp": 1602968888570,
     "user": {
      "displayName": "Aishwarya Bansode",
      "photoUrl": "",
      "userId": "05731812906175602918"
     },
     "user_tz": -330
    },
    "id": "AIuVE3QTy-Cz"
   },
   "outputs": [],
   "source": [
    "# Import necessary linbraries\n",
    "\n",
    "import cv2\n",
    "import numpy as np\n",
    "import tkinter\n",
    "from tkinter import messagebox\n",
    "import smtplib\n"
   ]
  },
  {
   "cell_type": "code",
   "execution_count": 5,
   "metadata": {
    "colab": {
     "base_uri": "https://localhost:8080/",
     "height": 316
    },
    "executionInfo": {
     "elapsed": 2701,
     "status": "error",
     "timestamp": 1602968891296,
     "user": {
      "displayName": "Aishwarya Bansode",
      "photoUrl": "",
      "userId": "05731812906175602918"
     },
     "user_tz": -330
    },
    "id": "3Lhy2T8D0DU5",
    "outputId": "7c7f9559-80e0-4860-bbef-f5148e7d7c92"
   },
   "outputs": [
    {
     "data": {
      "text/plain": [
       "''"
      ]
     },
     "execution_count": 5,
     "metadata": {},
     "output_type": "execute_result"
    }
   ],
   "source": [
    "# Initialize Tkinter\n",
    "root = tkinter.Tk()\n",
    "root.withdraw()\n"
   ]
  },
  {
   "cell_type": "code",
   "execution_count": 6,
   "metadata": {
    "colab": {
     "base_uri": "https://localhost:8080/",
     "height": 323
    },
    "executionInfo": {
     "elapsed": 1907,
     "status": "error",
     "timestamp": 1602968899462,
     "user": {
      "displayName": "Aishwarya Bansode",
      "photoUrl": "",
      "userId": "05731812906175602918"
     },
     "user_tz": -330
    },
    "id": "xiWEcVak11Hv",
    "outputId": "44969762-f2cf-4310-8178-35c1418e8d37"
   },
   "outputs": [],
   "source": [
    "#Load trained deep learning model\n",
    "model = load_model('face_mask_detection_alert_system.h5')"
   ]
  },
  {
   "cell_type": "code",
   "execution_count": 7,
   "metadata": {
    "executionInfo": {
     "elapsed": 3288,
     "status": "ok",
     "timestamp": 1602968936716,
     "user": {
      "displayName": "Aishwarya Bansode",
      "photoUrl": "",
      "userId": "05731812906175602918"
     },
     "user_tz": -330
    },
    "id": "P17C5Nh-11gA"
   },
   "outputs": [],
   "source": [
    "#Classifier to detect face\n",
    "face_det_classifier=cv2.CascadeClassifier('haarcascade_frontalface_default.xml')"
   ]
  },
  {
   "cell_type": "code",
   "execution_count": 8,
   "metadata": {
    "executionInfo": {
     "elapsed": 1692,
     "status": "ok",
     "timestamp": 1602968936720,
     "user": {
      "displayName": "Aishwarya Bansode",
      "photoUrl": "",
      "userId": "05731812906175602918"
     },
     "user_tz": -330
    },
    "id": "jCJNqMbp11u_"
   },
   "outputs": [],
   "source": [
    "# Capture Video\n",
    "vid_source=cv2.VideoCapture(0)"
   ]
  },
  {
   "cell_type": "code",
   "execution_count": 9,
   "metadata": {
    "executionInfo": {
     "elapsed": 907,
     "status": "ok",
     "timestamp": 1602968938848,
     "user": {
      "displayName": "Aishwarya Bansode",
      "photoUrl": "",
      "userId": "05731812906175602918"
     },
     "user_tz": -330
    },
    "id": "aG5utLqK11dQ"
   },
   "outputs": [],
   "source": [
    "# Dictionaries containing details of Wearing Mask and Color of rectangle around face. If wearing mask then color would be \n",
    "# green and if not wearing mask then color of rectangle around face would be red\n",
    "text_dict={0:'Mask ON',1:'No Mask'}\n",
    "rect_color_dict={0:(0,255,0),1:(0,0,255)}\n",
    "\n",
    "SUBJECT = \"Subject\"  \n",
    "TEXT = \"One Visitor violated Face Mask Policy. See in the camera to recognize user. A Person has been detected without a face mask in the Hotel Lobby Area 9. Please Alert the authorities.\""
   ]
  },
  {
   "cell_type": "code",
   "execution_count": 10,
   "metadata": {
    "colab": {
     "base_uri": "https://localhost:8080/",
     "height": 231
    },
    "executionInfo": {
     "elapsed": 1059,
     "status": "error",
     "timestamp": 1602968942230,
     "user": {
      "displayName": "Aishwarya Bansode",
      "photoUrl": "",
      "userId": "05731812906175602918"
     },
     "user_tz": -330
    },
    "id": "ZgeL407q4t98",
    "outputId": "a57d7bfb-540c-4baa-c82b-308766753625"
   },
   "outputs": [
    {
     "ename": "NameError",
     "evalue": "name 'vid_source' is not defined",
     "output_type": "error",
     "traceback": [
      "\u001b[1;31m---------------------------------------------------------------------------\u001b[0m",
      "\u001b[1;31mNameError\u001b[0m                                 Traceback (most recent call last)",
      "\u001b[1;32m<ipython-input-10-77251cade358>\u001b[0m in \u001b[0;36m<module>\u001b[1;34m\u001b[0m\n\u001b[0;32m      1\u001b[0m \u001b[1;31m# While Loop to continuously detect camera feed\u001b[0m\u001b[1;33m\u001b[0m\u001b[1;33m\u001b[0m\u001b[1;33m\u001b[0m\u001b[0m\n\u001b[0;32m      2\u001b[0m \u001b[1;32mwhile\u001b[0m\u001b[1;33m(\u001b[0m\u001b[1;32mTrue\u001b[0m\u001b[1;33m)\u001b[0m\u001b[1;33m:\u001b[0m\u001b[1;33m\u001b[0m\u001b[1;33m\u001b[0m\u001b[0m\n\u001b[1;32m----> 3\u001b[1;33m     \u001b[0mret\u001b[0m\u001b[1;33m,\u001b[0m \u001b[0mimg\u001b[0m \u001b[1;33m=\u001b[0m \u001b[0mvid_source\u001b[0m\u001b[1;33m.\u001b[0m\u001b[0mread\u001b[0m\u001b[1;33m(\u001b[0m\u001b[1;33m)\u001b[0m\u001b[1;33m\u001b[0m\u001b[1;33m\u001b[0m\u001b[0m\n\u001b[0m\u001b[0;32m      4\u001b[0m     \u001b[0mgrayscale_img\u001b[0m \u001b[1;33m=\u001b[0m \u001b[0mcv2\u001b[0m\u001b[1;33m.\u001b[0m\u001b[0mcvtColor\u001b[0m\u001b[1;33m(\u001b[0m\u001b[0mimg\u001b[0m\u001b[1;33m,\u001b[0m\u001b[0mcv2\u001b[0m\u001b[1;33m.\u001b[0m\u001b[0mCOLOR_BGR2GRAY\u001b[0m\u001b[1;33m)\u001b[0m\u001b[1;33m\u001b[0m\u001b[1;33m\u001b[0m\u001b[0m\n\u001b[0;32m      5\u001b[0m     \u001b[0mfaces\u001b[0m \u001b[1;33m=\u001b[0m \u001b[0mface_det_classifier\u001b[0m\u001b[1;33m.\u001b[0m\u001b[0mdetectMultiScale\u001b[0m\u001b[1;33m(\u001b[0m\u001b[0mgrayscale_img\u001b[0m\u001b[1;33m,\u001b[0m\u001b[1;36m1.1\u001b[0m\u001b[1;33m,\u001b[0m\u001b[1;36m5\u001b[0m\u001b[1;33m)\u001b[0m\u001b[1;33m\u001b[0m\u001b[1;33m\u001b[0m\u001b[0m\n",
      "\u001b[1;31mNameError\u001b[0m: name 'vid_source' is not defined"
     ]
    }
   ],
   "source": [
    "# While Loop to continuously detect camera feed\n",
    "while(True):\n",
    "    ret, img = vid_source.read()\n",
    "    grayscale_img = cv2.cvtColor(img,cv2.COLOR_BGR2GRAY)\n",
    "    faces = face_det_classifier.detectMultiScale(grayscale_img,1.1,5)  \n",
    "        \n",
    "    for (x,y,w,h) in faces:\n",
    "        face_img = grayscale_img[y:y+w,x:x+w]\n",
    "        resized_img = cv2.resize(face_img,(112,112))\n",
    "        normalized_img = resized_img/255.0\n",
    "        reshaped_img = np.reshape(normalized_img,(1,112,112,1))\n",
    "        result=model.predict(reshaped_img)\n",
    "\n",
    "        label=np.argmax(result,axis=1)[0]\n",
    "      \n",
    "        cv2.rectangle(img,(x,y),(x+w,y+h),rect_color_dict[label],2)\n",
    "        cv2.rectangle(img,(x,y-40),(x+w,y),rect_color_dict[label],-1)\n",
    "        cv2.putText(img, text_dict[label], (x, y-10),cv2.FONT_HERSHEY_SIMPLEX,0.8,(0,0,0),2) \n",
    "        \n",
    "        # If label = 1 then it means wearing No Mask and 0 means wearing Mask\n",
    "        if (label == 1):\n",
    "            # Throw a Warning Message to tell user to wear a mask if not wearing one. This will stay\n",
    "            #open and No Access will be given He/She wears the mask\n",
    "            messagebox.showwarning(\"Warning\",\"Access Denied. Please wear a Face Mask\")\n",
    "            \n",
    "            # Send an email to the administrator if access denied/user not wearing face mask \n",
    "            message = 'Subject: {}\\n\\n{}'.format(SUBJECT, TEXT)\n",
    "            mail = smtplib.SMTP('smtp.gmail.com', 587)\n",
    "            mail.ehlo()\n",
    "            mail.starttls()\n",
    "            mail.login('mlengineer32@gmail.com','aishwarya250@')\n",
    "            mail.sendmail('mlengineer32@gmail.com','mlengineer32@gmail.com',message)\n",
    "            mail.close\n",
    "        else:\n",
    "            pass\n",
    "            break\n",
    "\n",
    "    cv2.imshow('LIVE Video Feed',img)\n",
    "    key=cv2.waitKey(1)\n",
    "    \n",
    "    if(key==27):\n",
    "        break\n",
    "        \n",
    "cv2.destroyAllWindows()\n",
    "source.release()\n",
    "\n",
    "\n",
    "# In[ ]:"
   ]
  },
  {
   "cell_type": "code",
   "execution_count": null,
   "metadata": {},
   "outputs": [],
   "source": []
  }
 ],
 "metadata": {
  "accelerator": "GPU",
  "colab": {
   "authorship_tag": "ABX9TyODftkI9MbqhwznhvMGi4sv",
   "collapsed_sections": [],
   "name": "alert.ipynb",
   "provenance": []
  },
  "kernelspec": {
   "display_name": "Python 3",
   "language": "python",
   "name": "python3"
  },
  "language_info": {
   "codemirror_mode": {
    "name": "ipython",
    "version": 3
   },
   "file_extension": ".py",
   "mimetype": "text/x-python",
   "name": "python",
   "nbconvert_exporter": "python",
   "pygments_lexer": "ipython3",
   "version": "3.8.3"
  }
 },
 "nbformat": 4,
 "nbformat_minor": 1
}
