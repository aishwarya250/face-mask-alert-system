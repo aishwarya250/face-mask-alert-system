{
 "cells": [
  {
   "cell_type": "code",
   "execution_count": 1,
   "metadata": {
    "colab": {
     "base_uri": "https://localhost:8080/",
     "height": 224
    },
    "id": "Dk78kULhMwkd",
    "outputId": "b82ce218-6603-4f34-b7b3-bea234bd7e51"
   },
   "outputs": [
    {
     "name": "stdout",
     "output_type": "stream",
     "text": [
      "E: Package 'python-software-properties' has no installation candidate\n",
      "Selecting previously unselected package google-drive-ocamlfuse.\n",
      "(Reading database ... 144611 files and directories currently installed.)\n",
      "Preparing to unpack .../google-drive-ocamlfuse_0.7.23-0ubuntu1~ubuntu18.04.1_amd64.deb ...\n",
      "Unpacking google-drive-ocamlfuse (0.7.23-0ubuntu1~ubuntu18.04.1) ...\n",
      "Setting up google-drive-ocamlfuse (0.7.23-0ubuntu1~ubuntu18.04.1) ...\n",
      "Processing triggers for man-db (2.8.3-2ubuntu0.1) ...\n",
      "Please, open the following URL in a web browser: https://accounts.google.com/o/oauth2/auth?client_id=32555940559.apps.googleusercontent.com&redirect_uri=urn%3Aietf%3Awg%3Aoauth%3A2.0%3Aoob&scope=https%3A%2F%2Fwww.googleapis.com%2Fauth%2Fdrive&response_type=code&access_type=offline&approval_prompt=force\n",
      "··········\n",
      "Please, open the following URL in a web browser: https://accounts.google.com/o/oauth2/auth?client_id=32555940559.apps.googleusercontent.com&redirect_uri=urn%3Aietf%3Awg%3Aoauth%3A2.0%3Aoob&scope=https%3A%2F%2Fwww.googleapis.com%2Fauth%2Fdrive&response_type=code&access_type=offline&approval_prompt=force\n",
      "Please enter the verification code: Access token retrieved correctly.\n"
     ]
    }
   ],
   "source": [
    "# Configuration related preprocessing step before mounting the drive\n",
    "!apt-get install -y -qq software-properties-common python-software-properties module-init-tools\n",
    "!add-apt-repository -y ppa:alessandro-strada/ppa 2>&1 > /dev/null\n",
    "!apt-get update -qq 2>&1 > /dev/null\n",
    "!apt-get -y install -qq google-drive-ocamlfuse fuse\n",
    "from google.colab import auth\n",
    "auth.authenticate_user()\n",
    "from oauth2client.client import GoogleCredentials\n",
    "creds = GoogleCredentials.get_application_default()\n",
    "import getpass\n",
    "!google-drive-ocamlfuse -headless -id={creds.client_id} -secret={creds.client_secret} < /dev/null 2>&1 | grep URL\n",
    "vcode = getpass.getpass()\n",
    "!echo {vcode} | google-drive-ocamlfuse -headless -id={creds.client_id} -secret={creds.client_secret}\n",
    "\n",
    "\n"
   ]
  },
  {
   "cell_type": "code",
   "execution_count": 2,
   "metadata": {
    "colab": {
     "base_uri": "https://localhost:8080/",
     "height": 34
    },
    "id": "_jUH-jpmOao7",
    "outputId": "aaca47f0-ce82-45ea-913d-935939b98653"
   },
   "outputs": [
    {
     "name": "stdout",
     "output_type": "stream",
     "text": [
      "Mounted at /content/drive\n"
     ]
    }
   ],
   "source": [
    "#Mount the google drive\n",
    "from google.colab import drive\n",
    "drive.mount('/content/drive')\n"
   ]
  },
  {
   "cell_type": "markdown",
   "metadata": {
    "id": "hvO-MQFRXb7x"
   },
   "source": [
    "# **Data Pre-processing**"
   ]
  },
  {
   "cell_type": "code",
   "execution_count": 3,
   "metadata": {
    "colab": {
     "base_uri": "https://localhost:8080/",
     "height": 34
    },
    "id": "1M6rVs8xXaHN",
    "outputId": "cd6c2464-682c-456c-afc9-a6db603af0a7"
   },
   "outputs": [
    {
     "name": "stdout",
     "output_type": "stream",
     "text": [
      "['with_mask', 'without_mask']\n"
     ]
    }
   ],
   "source": [
    "# Import Necessary Libraries\n",
    "import os\n",
    "\n",
    "# Set Directory path for Dataset\n",
    "os.chdir(\"/content/drive/My Drive/Face_Mask_Detection_Alert_System\")\n",
    "Dataset='Dataset'\n",
    "Data_Dir=os.listdir(Dataset)\n",
    "print(Data_Dir)\n",
    "\n"
   ]
  },
  {
   "cell_type": "code",
   "execution_count": 4,
   "metadata": {
    "id": "4n_fW9h1W4Tz"
   },
   "outputs": [],
   "source": [
    "# Import necessary libraries\n",
    "import cv2\n",
    "import numpy as np\n",
    "from tensorflow.keras.utils import to_categorical\n",
    "from sklearn.preprocessing import LabelBinarizer\n",
    "from sklearn.model_selection import train_test_split\n",
    "\n",
    "img_rows, img_cols = 112, 112\n",
    "\n",
    "images = []\n",
    "labels = []\n",
    "\n",
    "for category in Data_Dir:\n",
    "    folder_path = os.path.join(Dataset, category)\n",
    "    for img in os.listdir(folder_path):\n",
    "        img_path = os.path.join(folder_path, img)\n",
    "        img=cv2.imread(img_path)\n",
    "        try:\n",
    "            #Coverting the image into gray scale\n",
    "            grayscale_img=cv2.cvtColor(img,cv2.COLOR_BGR2GRAY)\n",
    "\n",
    "            #resizing the gray scaled image into size 56x56 in order to keep size of the images consistent           \n",
    "            resized_img=cv2.resize(grayscale_img,(img_rows, img_cols))\n",
    "            images.append(resized_img)\n",
    "            labels.append(category)\n",
    "        # Exception Handling in case any error occurs\n",
    "        except Exception as e:\n",
    "            print('Exception:',e)\n",
    "        \n",
    "images=np.array(images)/255.0\n",
    "images=np.reshape(images,(images.shape[0],img_rows, img_cols,1))\n"
   ]
  },
  {
   "cell_type": "code",
   "execution_count": 5,
   "metadata": {
    "id": "16GwYJ3Gl-j4"
   },
   "outputs": [],
   "source": [
    "# Perform one hot encoding on the labels since the label are in textual form\n",
    "lb = LabelBinarizer()\n",
    "labels = lb.fit_transform(labels)\n",
    "labels = to_categorical(labels)\n",
    "labels = np.array(labels)\n",
    "\n",
    "(train_X, test_X, train_y, test_y) = train_test_split(images, labels, test_size=0.25, \n",
    "                                                      random_state=0)\n",
    "\n"
   ]
  },
  {
   "cell_type": "markdown",
   "metadata": {
    "id": "jBLAPLXssXvC"
   },
   "source": [
    "#**Build Covolutional Neural Network (CNN) Classification Model**"
   ]
  },
  {
   "cell_type": "code",
   "execution_count": 7,
   "metadata": {
    "id": "-tYrzvskl-43"
   },
   "outputs": [],
   "source": [
    "# Import Necessary Keras Libraries\n",
    "from keras.models import Sequential\n",
    "from keras.layers import Dense,Activation,Flatten,Dropout\n",
    "from keras.layers import Conv2D,MaxPooling2D\n"
   ]
  },
  {
   "cell_type": "code",
   "execution_count": 8,
   "metadata": {
    "id": "1JsiwFTYtPL3"
   },
   "outputs": [],
   "source": [
    "# Define model paramters\n",
    "num_classes = 2\n",
    "batch_size = 32\n"
   ]
  },
  {
   "cell_type": "code",
   "execution_count": 9,
   "metadata": {
    "colab": {
     "base_uri": "https://localhost:8080/",
     "height": 510
    },
    "id": "LlhzQd9gtPfQ",
    "outputId": "e948245e-6220-43c6-edd2-fafadff10e03"
   },
   "outputs": [
    {
     "name": "stdout",
     "output_type": "stream",
     "text": [
      "Model: \"sequential\"\n",
      "_________________________________________________________________\n",
      "Layer (type)                 Output Shape              Param #   \n",
      "=================================================================\n",
      "conv2d (Conv2D)              (None, 110, 110, 64)      640       \n",
      "_________________________________________________________________\n",
      "activation (Activation)      (None, 110, 110, 64)      0         \n",
      "_________________________________________________________________\n",
      "max_pooling2d (MaxPooling2D) (None, 55, 55, 64)        0         \n",
      "_________________________________________________________________\n",
      "conv2d_1 (Conv2D)            (None, 53, 53, 128)       73856     \n",
      "_________________________________________________________________\n",
      "activation_1 (Activation)    (None, 53, 53, 128)       0         \n",
      "_________________________________________________________________\n",
      "max_pooling2d_1 (MaxPooling2 (None, 26, 26, 128)       0         \n",
      "_________________________________________________________________\n",
      "flatten (Flatten)            (None, 86528)             0         \n",
      "_________________________________________________________________\n",
      "dropout (Dropout)            (None, 86528)             0         \n",
      "_________________________________________________________________\n",
      "dense (Dense)                (None, 64)                5537856   \n",
      "_________________________________________________________________\n",
      "dense_1 (Dense)              (None, 2)                 130       \n",
      "=================================================================\n",
      "Total params: 5,612,482\n",
      "Trainable params: 5,612,482\n",
      "Non-trainable params: 0\n",
      "_________________________________________________________________\n",
      "None\n"
     ]
    }
   ],
   "source": [
    "# Build CNN model using Sequential API\n",
    "model=Sequential()\n",
    "\n",
    "#First layer group containing Convolution, Relu and MaxPooling layers\n",
    "model.add(Conv2D(64,(3,3),input_shape=(img_rows, img_cols, 1)))\n",
    "model.add(Activation('relu'))\n",
    "model.add(MaxPooling2D(pool_size=(2,2)))\n",
    "\n",
    "#Second layer group containing Convolution, Relu and MaxPooling layers\n",
    "model.add(Conv2D(128,(3,3)))\n",
    "model.add(Activation('relu'))\n",
    "model.add(MaxPooling2D(pool_size=(2,2)))\n",
    "\n",
    "#Flatten and Dropout Layer to stack the output convolutions above as well as cater overfitting\n",
    "model.add(Flatten())\n",
    "model.add(Dropout(0.5))\n",
    "\n",
    "# Softmax Classifier\n",
    "model.add(Dense(64,activation='relu'))\n",
    "model.add(Dense(num_classes,activation='softmax'))\n",
    "\n",
    "print(model.summary())\n",
    "\n",
    "\n"
   ]
  },
  {
   "cell_type": "markdown",
   "metadata": {
    "id": "GGQ2c5ZOuxMa"
   },
   "source": [
    "#**Plot the Model**"
   ]
  },
  {
   "cell_type": "code",
   "execution_count": 10,
   "metadata": {
    "colab": {
     "base_uri": "https://localhost:8080/",
     "height": 1000
    },
    "id": "lhaalGu7tPsd",
    "outputId": "d4fcbb2a-ca5c-464b-c327-105953fbf380"
   },
   "outputs": [
    {
     "data": {
      "image/png": "[encoded data removed]",
      "text/plain": [
       "<IPython.core.display.Image object>"
      ]
     },
     "execution_count": 10,
     "metadata": {
      "tags": []
     },
     "output_type": "execute_result"
    }
   ],
   "source": [
    "# Plot the model\n",
    "from keras.utils.vis_utils import plot_model\n",
    "plot_model(model, to_file='face_mask_detection_architecture.png')\n"
   ]
  },
  {
   "cell_type": "markdown",
   "metadata": {
    "id": "3rTDIYoGvo1Q"
   },
   "source": [
    "# **Train the Model**"
   ]
  },
  {
   "cell_type": "code",
   "execution_count": 11,
   "metadata": {
    "colab": {
     "base_uri": "https://localhost:8080/",
     "height": 1000
    },
    "id": "s0lmdjwXvR1F",
    "outputId": "7c683579-af90-4c30-8fa4-1e304d50c985"
   },
   "outputs": [
    {
     "name": "stdout",
     "output_type": "stream",
     "text": [
      "Epoch 1/50\n",
      "14/14 [==============================] - 1s 44ms/step - loss: 0.9764 - accuracy: 0.4886 - val_loss: 0.6931 - val_accuracy: 0.5510\n",
      "Epoch 2/50\n",
      "14/14 [==============================] - 0s 24ms/step - loss: 0.6934 - accuracy: 0.5137 - val_loss: 0.6923 - val_accuracy: 0.5306\n",
      "Epoch 3/50\n",
      "14/14 [==============================] - 0s 24ms/step - loss: 0.6835 - accuracy: 0.6393 - val_loss: 0.6617 - val_accuracy: 0.6531\n",
      "Epoch 4/50\n",
      "14/14 [==============================] - 0s 25ms/step - loss: 0.5695 - accuracy: 0.7260 - val_loss: 0.6812 - val_accuracy: 0.6395\n",
      "Epoch 5/50\n",
      "14/14 [==============================] - 0s 24ms/step - loss: 0.5040 - accuracy: 0.7626 - val_loss: 0.4859 - val_accuracy: 0.7959\n",
      "Epoch 6/50\n",
      "14/14 [==============================] - 0s 24ms/step - loss: 0.4016 - accuracy: 0.8288 - val_loss: 0.5055 - val_accuracy: 0.7143\n",
      "Epoch 7/50\n",
      "14/14 [==============================] - 0s 24ms/step - loss: 0.3188 - accuracy: 0.8584 - val_loss: 0.4012 - val_accuracy: 0.8163\n",
      "Epoch 8/50\n",
      "14/14 [==============================] - 0s 24ms/step - loss: 0.2307 - accuracy: 0.9132 - val_loss: 0.4285 - val_accuracy: 0.8095\n",
      "Epoch 9/50\n",
      "14/14 [==============================] - 0s 24ms/step - loss: 0.1922 - accuracy: 0.9201 - val_loss: 0.3504 - val_accuracy: 0.8367\n",
      "Epoch 10/50\n",
      "14/14 [==============================] - 0s 24ms/step - loss: 0.1442 - accuracy: 0.9429 - val_loss: 0.3397 - val_accuracy: 0.8299\n",
      "Epoch 11/50\n",
      "14/14 [==============================] - 0s 24ms/step - loss: 0.1229 - accuracy: 0.9498 - val_loss: 0.3896 - val_accuracy: 0.8163\n",
      "Epoch 12/50\n",
      "14/14 [==============================] - 0s 24ms/step - loss: 0.0994 - accuracy: 0.9635 - val_loss: 0.3705 - val_accuracy: 0.8367\n",
      "Epoch 13/50\n",
      "14/14 [==============================] - 0s 24ms/step - loss: 0.0746 - accuracy: 0.9749 - val_loss: 0.4054 - val_accuracy: 0.8435\n",
      "Epoch 14/50\n",
      "14/14 [==============================] - 0s 24ms/step - loss: 0.0851 - accuracy: 0.9726 - val_loss: 0.3964 - val_accuracy: 0.8231\n",
      "Epoch 15/50\n",
      "14/14 [==============================] - 0s 24ms/step - loss: 0.0747 - accuracy: 0.9703 - val_loss: 0.5559 - val_accuracy: 0.8163\n",
      "Epoch 16/50\n",
      "14/14 [==============================] - 0s 24ms/step - loss: 0.0779 - accuracy: 0.9703 - val_loss: 0.4266 - val_accuracy: 0.8435\n",
      "Epoch 17/50\n",
      "14/14 [==============================] - 0s 24ms/step - loss: 0.0734 - accuracy: 0.9817 - val_loss: 0.4035 - val_accuracy: 0.8571\n",
      "Epoch 18/50\n",
      "14/14 [==============================] - 0s 24ms/step - loss: 0.0502 - accuracy: 0.9817 - val_loss: 0.5100 - val_accuracy: 0.8503\n",
      "Epoch 19/50\n",
      "14/14 [==============================] - 0s 24ms/step - loss: 0.0413 - accuracy: 0.9954 - val_loss: 0.4098 - val_accuracy: 0.8435\n",
      "Epoch 20/50\n",
      "14/14 [==============================] - 0s 24ms/step - loss: 0.0407 - accuracy: 0.9863 - val_loss: 0.4058 - val_accuracy: 0.8776\n",
      "Epoch 21/50\n",
      "14/14 [==============================] - 0s 24ms/step - loss: 0.0432 - accuracy: 0.9840 - val_loss: 0.3968 - val_accuracy: 0.8776\n",
      "Epoch 22/50\n",
      "14/14 [==============================] - 0s 24ms/step - loss: 0.0381 - accuracy: 0.9840 - val_loss: 0.3836 - val_accuracy: 0.8776\n",
      "Epoch 23/50\n",
      "14/14 [==============================] - 0s 25ms/step - loss: 0.0203 - accuracy: 0.9954 - val_loss: 0.4921 - val_accuracy: 0.8776\n",
      "Epoch 24/50\n",
      "14/14 [==============================] - 0s 24ms/step - loss: 0.0621 - accuracy: 0.9817 - val_loss: 0.4822 - val_accuracy: 0.8299\n",
      "Epoch 25/50\n",
      "14/14 [==============================] - 0s 24ms/step - loss: 0.0523 - accuracy: 0.9795 - val_loss: 0.5872 - val_accuracy: 0.8367\n",
      "Epoch 26/50\n",
      "14/14 [==============================] - 0s 25ms/step - loss: 0.0393 - accuracy: 0.9840 - val_loss: 0.4391 - val_accuracy: 0.8571\n",
      "Epoch 27/50\n",
      "14/14 [==============================] - 0s 23ms/step - loss: 0.0185 - accuracy: 0.9954 - val_loss: 0.4612 - val_accuracy: 0.8707\n",
      "Epoch 28/50\n",
      "14/14 [==============================] - 0s 24ms/step - loss: 0.0191 - accuracy: 0.9977 - val_loss: 0.4543 - val_accuracy: 0.8912\n",
      "Epoch 29/50\n",
      "14/14 [==============================] - 0s 24ms/step - loss: 0.0324 - accuracy: 0.9886 - val_loss: 0.4601 - val_accuracy: 0.8707\n",
      "Epoch 30/50\n",
      "14/14 [==============================] - 0s 24ms/step - loss: 0.0421 - accuracy: 0.9886 - val_loss: 0.4816 - val_accuracy: 0.8776\n",
      "Epoch 31/50\n",
      "14/14 [==============================] - 0s 24ms/step - loss: 0.0131 - accuracy: 1.0000 - val_loss: 0.5233 - val_accuracy: 0.8912\n",
      "Epoch 32/50\n",
      "14/14 [==============================] - 0s 24ms/step - loss: 0.0153 - accuracy: 0.9954 - val_loss: 0.5543 - val_accuracy: 0.8776\n",
      "Epoch 33/50\n",
      "14/14 [==============================] - 0s 24ms/step - loss: 0.0192 - accuracy: 0.9932 - val_loss: 0.5320 - val_accuracy: 0.8912\n",
      "Epoch 34/50\n",
      "14/14 [==============================] - 0s 24ms/step - loss: 0.0108 - accuracy: 0.9977 - val_loss: 0.4674 - val_accuracy: 0.8844\n",
      "Epoch 35/50\n",
      "14/14 [==============================] - 0s 24ms/step - loss: 0.0143 - accuracy: 0.9977 - val_loss: 0.5187 - val_accuracy: 0.8639\n",
      "Epoch 36/50\n",
      "14/14 [==============================] - 0s 24ms/step - loss: 0.0212 - accuracy: 0.9954 - val_loss: 0.5068 - val_accuracy: 0.8844\n",
      "Epoch 37/50\n",
      "14/14 [==============================] - 0s 24ms/step - loss: 0.0224 - accuracy: 0.9954 - val_loss: 0.5707 - val_accuracy: 0.8707\n",
      "Epoch 38/50\n",
      "14/14 [==============================] - 0s 24ms/step - loss: 0.0258 - accuracy: 0.9932 - val_loss: 0.4486 - val_accuracy: 0.8707\n",
      "Epoch 39/50\n",
      "14/14 [==============================] - 0s 24ms/step - loss: 0.0481 - accuracy: 0.9817 - val_loss: 0.4930 - val_accuracy: 0.8776\n",
      "Epoch 40/50\n",
      "14/14 [==============================] - 0s 24ms/step - loss: 0.0246 - accuracy: 0.9932 - val_loss: 0.5838 - val_accuracy: 0.8639\n",
      "Epoch 41/50\n",
      "14/14 [==============================] - 0s 24ms/step - loss: 0.0206 - accuracy: 0.9954 - val_loss: 0.4943 - val_accuracy: 0.8844\n",
      "Epoch 42/50\n",
      "14/14 [==============================] - 0s 24ms/step - loss: 0.0204 - accuracy: 0.9954 - val_loss: 0.5133 - val_accuracy: 0.8776\n",
      "Epoch 43/50\n",
      "14/14 [==============================] - 0s 24ms/step - loss: 0.0203 - accuracy: 0.9954 - val_loss: 0.6688 - val_accuracy: 0.8707\n",
      "Epoch 44/50\n",
      "14/14 [==============================] - 0s 24ms/step - loss: 0.0128 - accuracy: 0.9977 - val_loss: 0.4902 - val_accuracy: 0.8980\n",
      "Epoch 45/50\n",
      "14/14 [==============================] - 0s 24ms/step - loss: 0.0096 - accuracy: 0.9977 - val_loss: 0.5780 - val_accuracy: 0.8844\n",
      "Epoch 46/50\n",
      "14/14 [==============================] - 0s 24ms/step - loss: 0.0130 - accuracy: 0.9954 - val_loss: 0.5251 - val_accuracy: 0.8980\n",
      "Epoch 47/50\n",
      "14/14 [==============================] - 0s 24ms/step - loss: 0.0065 - accuracy: 1.0000 - val_loss: 0.5413 - val_accuracy: 0.8844\n",
      "Epoch 48/50\n",
      "14/14 [==============================] - 0s 24ms/step - loss: 0.0036 - accuracy: 1.0000 - val_loss: 0.5578 - val_accuracy: 0.8980\n",
      "Epoch 49/50\n",
      "14/14 [==============================] - 0s 24ms/step - loss: 0.0026 - accuracy: 1.0000 - val_loss: 0.6026 - val_accuracy: 0.8912\n",
      "Epoch 50/50\n",
      "14/14 [==============================] - 0s 24ms/step - loss: 0.0089 - accuracy: 0.9954 - val_loss: 0.7515 - val_accuracy: 0.8571\n"
     ]
    }
   ],
   "source": [
    "from keras.optimizers import Adam\n",
    "\n",
    "epochs = 50\n",
    "\n",
    "model.compile(loss = 'categorical_crossentropy',\n",
    "              optimizer = Adam(lr=0.001),\n",
    "              metrics = ['accuracy'])\n",
    "\n",
    "fitted_model = model.fit(\n",
    "    train_X,\n",
    "    train_y,\n",
    "    epochs = epochs,\n",
    "    validation_split=0.25)\n"
   ]
  },
  {
   "cell_type": "markdown",
   "metadata": {
    "id": "gvMDWDRFxux-"
   },
   "source": [
    "#**Plot the Training Loss & Accuracy** "
   ]
  },
  {
   "cell_type": "code",
   "execution_count": 12,
   "metadata": {
    "colab": {
     "base_uri": "https://localhost:8080/",
     "height": 541
    },
    "id": "VHpfQrD0ygKQ",
    "outputId": "04474c35-b4c9-4581-fcdd-d3ff726465a2"
   },
   "outputs": [
    {
     "data": {
      "image/png": "[encoded data removed]",
      "text/plain": [
       "<Figure size 432x288 with 1 Axes>"
      ]
     },
     "metadata": {
      "needs_background": "light",
      "tags": []
     },
     "output_type": "display_data"
    },
    {
     "data": {
      "image/png": "[encoded data removed]",
      "text/plain": [
       "<Figure size 432x288 with 1 Axes>"
      ]
     },
     "metadata": {
      "needs_background": "light",
      "tags": []
     },
     "output_type": "display_data"
    }
   ],
   "source": [
    "from matplotlib import pyplot as plt\n",
    "# Plot Training and Validation Loss\n",
    "plt.plot(fitted_model.history['loss'],'r',label='training loss')\n",
    "plt.plot(fitted_model.history['val_loss'],label='validation loss')\n",
    "plt.xlabel('Number of Epochs')\n",
    "plt.ylabel('Loss Value')\n",
    "plt.legend()\n",
    "plt.show()\n",
    "\n",
    "# Plot Training and Validation Accuracy\n",
    "plt.plot(fitted_model.history['accuracy'],'r',label='training accuracy')\n",
    "plt.plot(fitted_model.history['val_accuracy'],label='validation accuracy')\n",
    "plt.xlabel('Number of Epochs')\n",
    "plt.ylabel('Accuracy Value')\n",
    "plt.legend()\n",
    "plt.show()\n"
   ]
  },
  {
   "cell_type": "markdown",
   "metadata": {
    "id": "9eXsuxG9z_rA"
   },
   "source": [
    "#**Save or Serialize the Model**"
   ]
  },
  {
   "cell_type": "code",
   "execution_count": 14,
   "metadata": {
    "id": "-ZjdzWL9ygoD"
   },
   "outputs": [],
   "source": [
    "\n",
    "# Save or Serialize the model with the name face_mask_detection_alert_system\n",
    "model.save('face_mask_detection_alert_system.h5')\n",
    "print(\"Saved model to disk\")"
   ]
  },
  {
   "cell_type": "code",
   "execution_count": null,
   "metadata": {
    "id": "UNT94zz4zhbe"
   },
   "outputs": [],
   "source": []
  }
 ],
 "metadata": {
  "accelerator": "GPU",
  "colab": {
   "collapsed_sections": [],
   "name": "face_mask.ipynb",
   "provenance": []
  },
  "kernelspec": {
   "display_name": "Python 3",
   "language": "python",
   "name": "python3"
  },
  "language_info": {
   "codemirror_mode": {
    "name": "ipython",
    "version": 3
   },
   "file_extension": ".py",
   "mimetype": "text/x-python",
   "name": "python",
   "nbconvert_exporter": "python",
   "pygments_lexer": "ipython3",
   "version": "3.8.3"
  }
 },
 "nbformat": 4,
 "nbformat_minor": 1
}
